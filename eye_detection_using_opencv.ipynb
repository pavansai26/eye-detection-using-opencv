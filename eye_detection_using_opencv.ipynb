{
  "nbformat": 4,
  "nbformat_minor": 0,
  "metadata": {
    "colab": {
      "name": "eye detection using opencv.ipynb",
      "provenance": [],
      "private_outputs": true,
      "authorship_tag": "ABX9TyOpE/HdLfMqucOBFhxuQne7",
      "include_colab_link": true
    },
    "kernelspec": {
      "name": "python3",
      "display_name": "Python 3"
    }
  },
  "cells": [
    {
      "cell_type": "markdown",
      "metadata": {
        "id": "view-in-github",
        "colab_type": "text"
      },
      "source": [
        "<a href=\"https://colab.research.google.com/github/pavansai26/eye-detection-using-opencv/blob/master/eye_detection_using_opencv.ipynb\" target=\"_parent\"><img src=\"https://colab.research.google.com/assets/colab-badge.svg\" alt=\"Open In Colab\"/></a>"
      ]
    },
    {
      "cell_type": "code",
      "metadata": {
        "id": "4MtAw9RusWfJ",
        "colab_type": "code",
        "colab": {}
      },
      "source": [
        "import numpy as np\n",
        "import cv2\n",
        "cap=cv2.VideoCapture(0)\n",
        "while(True):\n",
        "    ret,frame=cap.read()\n",
        "    gray=cv2.cvtColor(frame,cv2.COLOR_BGR2GRAY)\n",
        "    eye_cascade = cv2.CascadeClassifier('C:/Users/lenovo/Documents/jupyter notebook/cv2 xml files/haarcascade_eye.xml')\n",
        "    for (x,y,w,h) in faces:\n",
        "        print(x,y,w,h)\n",
        "        roi_gray=gray[y:y+h,x:x+w]\n",
        "        roi_color=frame[y:y+h,x:x+w]\n",
        "        #img_item='myface.jpeg'\n",
        "        #cv2.imwrite(img_item,roi_gray)\n",
        "        color=(255,0,0)\n",
        "        stroke=3\n",
        "        cv2.rectangle(frame,(x,y),(x+w,y+h),color,stroke)\n",
        "        eyes=eye_cascade.detectMultiScale(gray,1.5,5)\n",
        "        for (ex,ey,ew,eh) in eyes:\n",
        "            cv2.rectangle(frame,(ex,ey),(ex+ew,ey+eh),color,stroke)\n",
        "\n",
        "\n",
        "    #cv2.imshow('frame',gray)\n",
        "    #if cv2.waitkey(20) & 0XFF == ord('q'):\n",
        "        "
      ],
      "execution_count": 0,
      "outputs": []
    }
  ]
}